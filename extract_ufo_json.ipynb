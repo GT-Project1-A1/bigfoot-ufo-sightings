{
 "cells": [
  {
   "cell_type": "markdown",
   "metadata": {},
   "source": [
    "# Extract UFO JSON Data"
   ]
  },
  {
   "cell_type": "markdown",
   "metadata": {},
   "source": [
    "### Source: Data.World.com\n",
    "### URL: https://data.world/timothyrenner/ufo-sightings/workspace/file?filename=nuforc_reports.json"
   ]
  },
  {
   "cell_type": "code",
   "execution_count": 1,
   "metadata": {},
   "outputs": [],
   "source": [
    "# Use pandas and SQLAlchemy to extract data\n",
    "import pandas as pd\n",
    "from sqlalchemy import create_engine"
   ]
  },
  {
   "cell_type": "code",
   "execution_count": 2,
   "metadata": {},
   "outputs": [],
   "source": [
    "# Establish path for extracting UFO json file\n",
    "json_path = \"../Resources/nuforc_reports.json\""
   ]
  },
  {
   "cell_type": "code",
   "execution_count": 3,
   "metadata": {},
   "outputs": [
    {
     "data": {
      "text/html": [
       "<div>\n",
       "<style scoped>\n",
       "    .dataframe tbody tr th:only-of-type {\n",
       "        vertical-align: middle;\n",
       "    }\n",
       "\n",
       "    .dataframe tbody tr th {\n",
       "        vertical-align: top;\n",
       "    }\n",
       "\n",
       "    .dataframe thead th {\n",
       "        text-align: right;\n",
       "    }\n",
       "</style>\n",
       "<table border=\"1\" class=\"dataframe\">\n",
       "  <thead>\n",
       "    <tr style=\"text-align: right;\">\n",
       "      <th></th>\n",
       "      <th>text</th>\n",
       "      <th>stats</th>\n",
       "      <th>date_time</th>\n",
       "      <th>report_link</th>\n",
       "      <th>city</th>\n",
       "      <th>state</th>\n",
       "      <th>shape</th>\n",
       "      <th>duration</th>\n",
       "      <th>summary</th>\n",
       "      <th>posted</th>\n",
       "    </tr>\n",
       "  </thead>\n",
       "  <tbody>\n",
       "    <tr>\n",
       "      <th>0</th>\n",
       "      <td>My wife was driving southeast on a fairly popu...</td>\n",
       "      <td>Occurred : 12/12/2019 18:43  (Entered as : 12/...</td>\n",
       "      <td>12/12/19 18:43</td>\n",
       "      <td>http://www.nuforc.org/webreports/151/S151739.html</td>\n",
       "      <td>Chester</td>\n",
       "      <td>VA</td>\n",
       "      <td>Light</td>\n",
       "      <td>5 seconds</td>\n",
       "      <td>My wife was driving southeast on a fairly popu...</td>\n",
       "      <td>12/22/19</td>\n",
       "    </tr>\n",
       "    <tr>\n",
       "      <th>1</th>\n",
       "      <td>I think that I may caught a UFO on the NBC Nig...</td>\n",
       "      <td>Occurred : 3/22/2019 18:30  (Entered as : 03/2...</td>\n",
       "      <td>3/22/19 18:30</td>\n",
       "      <td>http://www.nuforc.org/webreports/145/S145297.html</td>\n",
       "      <td>Rocky Hill</td>\n",
       "      <td>CT</td>\n",
       "      <td>Circle</td>\n",
       "      <td>3-5 seconds</td>\n",
       "      <td>I think that I may caught a UFO on the NBC Nig...</td>\n",
       "      <td>3/29/19</td>\n",
       "    </tr>\n",
       "    <tr>\n",
       "      <th>2</th>\n",
       "      <td>I woke up late in the afternoon 3:30-4pm.  I w...</td>\n",
       "      <td>Occurred : 4/1/2019 15:45  (Entered as : April...</td>\n",
       "      <td>April01.19</td>\n",
       "      <td>http://www.nuforc.org/webreports/145/S145556.html</td>\n",
       "      <td>None</td>\n",
       "      <td>None</td>\n",
       "      <td>None</td>\n",
       "      <td>None</td>\n",
       "      <td>I woke up late in the afternoon 3:30-4pm. I we...</td>\n",
       "      <td>4/12/19</td>\n",
       "    </tr>\n",
       "    <tr>\n",
       "      <th>3</th>\n",
       "      <td>I was driving towards the intersection of fall...</td>\n",
       "      <td>Occurred : 4/17/2019 02:00  (Entered as : 04-1...</td>\n",
       "      <td>4/17/19 02:00</td>\n",
       "      <td>http://www.nuforc.org/webreports/145/S145697.html</td>\n",
       "      <td>Ottawa (Carleton) (Canada)</td>\n",
       "      <td>ON</td>\n",
       "      <td>Teardrop</td>\n",
       "      <td>10 seconds</td>\n",
       "      <td>I was driving towards the intersection of fall...</td>\n",
       "      <td>4/18/19</td>\n",
       "    </tr>\n",
       "    <tr>\n",
       "      <th>4</th>\n",
       "      <td>In Peoria, Arizona, I saw a cigar shaped craft...</td>\n",
       "      <td>Occurred : 3/15/2009 18:00  (Entered as : 03/1...</td>\n",
       "      <td>3/15/09 18:00</td>\n",
       "      <td>http://www.nuforc.org/webreports/145/S145723.html</td>\n",
       "      <td>Peoria</td>\n",
       "      <td>NY</td>\n",
       "      <td>Cigar</td>\n",
       "      <td>2 minutes</td>\n",
       "      <td>In Peoria Arizona, I saw a cigar shaped craft ...</td>\n",
       "      <td>4/18/19</td>\n",
       "    </tr>\n",
       "  </tbody>\n",
       "</table>\n",
       "</div>"
      ],
      "text/plain": [
       "                                                text  \\\n",
       "0  My wife was driving southeast on a fairly popu...   \n",
       "1  I think that I may caught a UFO on the NBC Nig...   \n",
       "2  I woke up late in the afternoon 3:30-4pm.  I w...   \n",
       "3  I was driving towards the intersection of fall...   \n",
       "4  In Peoria, Arizona, I saw a cigar shaped craft...   \n",
       "\n",
       "                                               stats       date_time  \\\n",
       "0  Occurred : 12/12/2019 18:43  (Entered as : 12/...  12/12/19 18:43   \n",
       "1  Occurred : 3/22/2019 18:30  (Entered as : 03/2...   3/22/19 18:30   \n",
       "2  Occurred : 4/1/2019 15:45  (Entered as : April...      April01.19   \n",
       "3  Occurred : 4/17/2019 02:00  (Entered as : 04-1...   4/17/19 02:00   \n",
       "4  Occurred : 3/15/2009 18:00  (Entered as : 03/1...   3/15/09 18:00   \n",
       "\n",
       "                                         report_link  \\\n",
       "0  http://www.nuforc.org/webreports/151/S151739.html   \n",
       "1  http://www.nuforc.org/webreports/145/S145297.html   \n",
       "2  http://www.nuforc.org/webreports/145/S145556.html   \n",
       "3  http://www.nuforc.org/webreports/145/S145697.html   \n",
       "4  http://www.nuforc.org/webreports/145/S145723.html   \n",
       "\n",
       "                         city state     shape     duration  \\\n",
       "0                     Chester    VA     Light    5 seconds   \n",
       "1                  Rocky Hill    CT    Circle  3-5 seconds   \n",
       "2                        None  None      None         None   \n",
       "3  Ottawa (Carleton) (Canada)    ON  Teardrop   10 seconds   \n",
       "4                      Peoria    NY     Cigar    2 minutes   \n",
       "\n",
       "                                             summary    posted  \n",
       "0  My wife was driving southeast on a fairly popu...  12/22/19  \n",
       "1  I think that I may caught a UFO on the NBC Nig...   3/29/19  \n",
       "2  I woke up late in the afternoon 3:30-4pm. I we...   4/12/19  \n",
       "3  I was driving towards the intersection of fall...   4/18/19  \n",
       "4  In Peoria Arizona, I saw a cigar shaped craft ...   4/18/19  "
      ]
     },
     "execution_count": 3,
     "metadata": {},
     "output_type": "execute_result"
    }
   ],
   "source": [
    "# Extract UFO json data into pandas dataframe using above path\n",
    "ufo_df = pd.read_json(json_path, lines=True)\n",
    "ufo_df.head()"
   ]
  },
  {
   "cell_type": "code",
   "execution_count": null,
   "metadata": {},
   "outputs": [],
   "source": []
  }
 ],
 "metadata": {
  "kernelspec": {
   "display_name": "Python 3",
   "language": "python",
   "name": "python3"
  },
  "language_info": {
   "codemirror_mode": {
    "name": "ipython",
    "version": 3
   },
   "file_extension": ".py",
   "mimetype": "text/x-python",
   "name": "python",
   "nbconvert_exporter": "python",
   "pygments_lexer": "ipython3",
   "version": "3.6.10"
  }
 },
 "nbformat": 4,
 "nbformat_minor": 4
}
